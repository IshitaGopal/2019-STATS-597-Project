{
 "cells": [
  {
   "cell_type": "code",
   "execution_count": 131,
   "metadata": {
    "collapsed": true
   },
   "outputs": [],
   "source": [
    "import pandas as pd\n",
    "from matplotlib import pyplot\n",
    "import datetime\n",
    "from sklearn.utils import resample\n",
    "import statsmodels.api as sm\n",
    "import os"
   ]
  },
  {
   "cell_type": "code",
   "execution_count": 137,
   "metadata": {
    "collapsed": false
   },
   "outputs": [
    {
     "data": {
      "text/plain": [
       "'/Users/ishitagopal/Box/Stats_597_Project'"
      ]
     },
     "execution_count": 137,
     "metadata": {},
     "output_type": "execute_result"
    }
   ],
   "source": [
    "# Set working dir\n",
    "os.chdir(\"/Users/ishitagopal/Box/Stats_597_Project/\")\n",
    "os.getcwd()"
   ]
  },
  {
   "cell_type": "code",
   "execution_count": 2,
   "metadata": {
    "collapsed": true
   },
   "outputs": [],
   "source": [
    "# force Pandas to not truncate the dataframe when printing \n",
    "pd.set_option('display.max_columns', 50)\n",
    "pd.set_option('display.max_rows', 100)"
   ]
  },
  {
   "cell_type": "code",
   "execution_count": 135,
   "metadata": {
    "collapsed": false
   },
   "outputs": [],
   "source": [
    "# Read in the data \n",
    "\n",
    "# feautures in the training dataset\n",
    "train_features = pd.read_csv(\"TrainData.csv\")\n",
    "\n",
    "# class labels for training dataset\n",
    "\n",
    "train_lables = pd.read_csv(\"TrainLabels.csv\")\n",
    "\n",
    "# merging features with lables -- final training dataset \n",
    "df_train = train_features.merge(train_lables, on = 'id')"
   ]
  },
  {
   "cell_type": "code",
   "execution_count": 139,
   "metadata": {
    "collapsed": false
   },
   "outputs": [],
   "source": [
    "df_test = pd.read_csv(\"TestData.csv\")"
   ]
  },
  {
   "cell_type": "code",
   "execution_count": 140,
   "metadata": {
    "collapsed": false
   },
   "outputs": [
    {
     "data": {
      "text/html": [
       "<div>\n",
       "<table border=\"1\" class=\"dataframe\">\n",
       "  <thead>\n",
       "    <tr style=\"text-align: right;\">\n",
       "      <th></th>\n",
       "      <th>id</th>\n",
       "      <th>amount_tsh</th>\n",
       "      <th>date_recorded</th>\n",
       "      <th>funder</th>\n",
       "      <th>gps_height</th>\n",
       "      <th>installer</th>\n",
       "      <th>longitude</th>\n",
       "      <th>latitude</th>\n",
       "      <th>wpt_name</th>\n",
       "      <th>num_private</th>\n",
       "      <th>basin</th>\n",
       "      <th>subvillage</th>\n",
       "      <th>region</th>\n",
       "      <th>region_code</th>\n",
       "      <th>district_code</th>\n",
       "      <th>lga</th>\n",
       "      <th>ward</th>\n",
       "      <th>population</th>\n",
       "      <th>public_meeting</th>\n",
       "      <th>recorded_by</th>\n",
       "      <th>scheme_management</th>\n",
       "      <th>scheme_name</th>\n",
       "      <th>permit</th>\n",
       "      <th>construction_year</th>\n",
       "      <th>extraction_type</th>\n",
       "      <th>extraction_type_group</th>\n",
       "      <th>extraction_type_class</th>\n",
       "      <th>management</th>\n",
       "      <th>management_group</th>\n",
       "      <th>payment</th>\n",
       "      <th>payment_type</th>\n",
       "      <th>water_quality</th>\n",
       "      <th>quality_group</th>\n",
       "      <th>quantity</th>\n",
       "      <th>quantity_group</th>\n",
       "      <th>source</th>\n",
       "      <th>source_type</th>\n",
       "      <th>source_class</th>\n",
       "      <th>waterpoint_type</th>\n",
       "      <th>waterpoint_type_group</th>\n",
       "    </tr>\n",
       "  </thead>\n",
       "  <tbody>\n",
       "    <tr>\n",
       "      <th>0</th>\n",
       "      <td>50785</td>\n",
       "      <td>0.0</td>\n",
       "      <td>2013-02-04</td>\n",
       "      <td>Dmdd</td>\n",
       "      <td>1996</td>\n",
       "      <td>DMDD</td>\n",
       "      <td>35.290799</td>\n",
       "      <td>-4.059696</td>\n",
       "      <td>Dinamu Secondary School</td>\n",
       "      <td>0</td>\n",
       "      <td>Internal</td>\n",
       "      <td>Magoma</td>\n",
       "      <td>Manyara</td>\n",
       "      <td>21</td>\n",
       "      <td>3</td>\n",
       "      <td>Mbulu</td>\n",
       "      <td>Bashay</td>\n",
       "      <td>321</td>\n",
       "      <td>True</td>\n",
       "      <td>GeoData Consultants Ltd</td>\n",
       "      <td>Parastatal</td>\n",
       "      <td>NaN</td>\n",
       "      <td>True</td>\n",
       "      <td>2012</td>\n",
       "      <td>other</td>\n",
       "      <td>other</td>\n",
       "      <td>other</td>\n",
       "      <td>parastatal</td>\n",
       "      <td>parastatal</td>\n",
       "      <td>never pay</td>\n",
       "      <td>never pay</td>\n",
       "      <td>soft</td>\n",
       "      <td>good</td>\n",
       "      <td>seasonal</td>\n",
       "      <td>seasonal</td>\n",
       "      <td>rainwater harvesting</td>\n",
       "      <td>rainwater harvesting</td>\n",
       "      <td>surface</td>\n",
       "      <td>other</td>\n",
       "      <td>other</td>\n",
       "    </tr>\n",
       "    <tr>\n",
       "      <th>1</th>\n",
       "      <td>51630</td>\n",
       "      <td>0.0</td>\n",
       "      <td>2013-02-04</td>\n",
       "      <td>Government Of Tanzania</td>\n",
       "      <td>1569</td>\n",
       "      <td>DWE</td>\n",
       "      <td>36.656709</td>\n",
       "      <td>-3.309214</td>\n",
       "      <td>Kimnyak</td>\n",
       "      <td>0</td>\n",
       "      <td>Pangani</td>\n",
       "      <td>Kimnyak</td>\n",
       "      <td>Arusha</td>\n",
       "      <td>2</td>\n",
       "      <td>2</td>\n",
       "      <td>Arusha Rural</td>\n",
       "      <td>Kimnyaki</td>\n",
       "      <td>300</td>\n",
       "      <td>True</td>\n",
       "      <td>GeoData Consultants Ltd</td>\n",
       "      <td>VWC</td>\n",
       "      <td>TPRI pipe line</td>\n",
       "      <td>True</td>\n",
       "      <td>2000</td>\n",
       "      <td>gravity</td>\n",
       "      <td>gravity</td>\n",
       "      <td>gravity</td>\n",
       "      <td>vwc</td>\n",
       "      <td>user-group</td>\n",
       "      <td>never pay</td>\n",
       "      <td>never pay</td>\n",
       "      <td>soft</td>\n",
       "      <td>good</td>\n",
       "      <td>insufficient</td>\n",
       "      <td>insufficient</td>\n",
       "      <td>spring</td>\n",
       "      <td>spring</td>\n",
       "      <td>groundwater</td>\n",
       "      <td>communal standpipe</td>\n",
       "      <td>communal standpipe</td>\n",
       "    </tr>\n",
       "    <tr>\n",
       "      <th>2</th>\n",
       "      <td>17168</td>\n",
       "      <td>0.0</td>\n",
       "      <td>2013-02-01</td>\n",
       "      <td>NaN</td>\n",
       "      <td>1567</td>\n",
       "      <td>NaN</td>\n",
       "      <td>34.767863</td>\n",
       "      <td>-5.004344</td>\n",
       "      <td>Puma Secondary</td>\n",
       "      <td>0</td>\n",
       "      <td>Internal</td>\n",
       "      <td>Msatu</td>\n",
       "      <td>Singida</td>\n",
       "      <td>13</td>\n",
       "      <td>2</td>\n",
       "      <td>Singida Rural</td>\n",
       "      <td>Puma</td>\n",
       "      <td>500</td>\n",
       "      <td>True</td>\n",
       "      <td>GeoData Consultants Ltd</td>\n",
       "      <td>VWC</td>\n",
       "      <td>P</td>\n",
       "      <td>NaN</td>\n",
       "      <td>2010</td>\n",
       "      <td>other</td>\n",
       "      <td>other</td>\n",
       "      <td>other</td>\n",
       "      <td>vwc</td>\n",
       "      <td>user-group</td>\n",
       "      <td>never pay</td>\n",
       "      <td>never pay</td>\n",
       "      <td>soft</td>\n",
       "      <td>good</td>\n",
       "      <td>insufficient</td>\n",
       "      <td>insufficient</td>\n",
       "      <td>rainwater harvesting</td>\n",
       "      <td>rainwater harvesting</td>\n",
       "      <td>surface</td>\n",
       "      <td>other</td>\n",
       "      <td>other</td>\n",
       "    </tr>\n",
       "    <tr>\n",
       "      <th>3</th>\n",
       "      <td>45559</td>\n",
       "      <td>0.0</td>\n",
       "      <td>2013-01-22</td>\n",
       "      <td>Finn Water</td>\n",
       "      <td>267</td>\n",
       "      <td>FINN WATER</td>\n",
       "      <td>38.058046</td>\n",
       "      <td>-9.418672</td>\n",
       "      <td>Kwa Mzee Pange</td>\n",
       "      <td>0</td>\n",
       "      <td>Ruvuma / Southern Coast</td>\n",
       "      <td>Kipindimbi</td>\n",
       "      <td>Lindi</td>\n",
       "      <td>80</td>\n",
       "      <td>43</td>\n",
       "      <td>Liwale</td>\n",
       "      <td>Mkutano</td>\n",
       "      <td>250</td>\n",
       "      <td>NaN</td>\n",
       "      <td>GeoData Consultants Ltd</td>\n",
       "      <td>VWC</td>\n",
       "      <td>NaN</td>\n",
       "      <td>True</td>\n",
       "      <td>1987</td>\n",
       "      <td>other</td>\n",
       "      <td>other</td>\n",
       "      <td>other</td>\n",
       "      <td>vwc</td>\n",
       "      <td>user-group</td>\n",
       "      <td>unknown</td>\n",
       "      <td>unknown</td>\n",
       "      <td>soft</td>\n",
       "      <td>good</td>\n",
       "      <td>dry</td>\n",
       "      <td>dry</td>\n",
       "      <td>shallow well</td>\n",
       "      <td>shallow well</td>\n",
       "      <td>groundwater</td>\n",
       "      <td>other</td>\n",
       "      <td>other</td>\n",
       "    </tr>\n",
       "    <tr>\n",
       "      <th>4</th>\n",
       "      <td>49871</td>\n",
       "      <td>500.0</td>\n",
       "      <td>2013-03-27</td>\n",
       "      <td>Bruder</td>\n",
       "      <td>1260</td>\n",
       "      <td>BRUDER</td>\n",
       "      <td>35.006123</td>\n",
       "      <td>-10.950412</td>\n",
       "      <td>Kwa Mzee Turuka</td>\n",
       "      <td>0</td>\n",
       "      <td>Ruvuma / Southern Coast</td>\n",
       "      <td>Losonga</td>\n",
       "      <td>Ruvuma</td>\n",
       "      <td>10</td>\n",
       "      <td>3</td>\n",
       "      <td>Mbinga</td>\n",
       "      <td>Mbinga Urban</td>\n",
       "      <td>60</td>\n",
       "      <td>NaN</td>\n",
       "      <td>GeoData Consultants Ltd</td>\n",
       "      <td>Water Board</td>\n",
       "      <td>BRUDER</td>\n",
       "      <td>True</td>\n",
       "      <td>2000</td>\n",
       "      <td>gravity</td>\n",
       "      <td>gravity</td>\n",
       "      <td>gravity</td>\n",
       "      <td>water board</td>\n",
       "      <td>user-group</td>\n",
       "      <td>pay monthly</td>\n",
       "      <td>monthly</td>\n",
       "      <td>soft</td>\n",
       "      <td>good</td>\n",
       "      <td>enough</td>\n",
       "      <td>enough</td>\n",
       "      <td>spring</td>\n",
       "      <td>spring</td>\n",
       "      <td>groundwater</td>\n",
       "      <td>communal standpipe</td>\n",
       "      <td>communal standpipe</td>\n",
       "    </tr>\n",
       "  </tbody>\n",
       "</table>\n",
       "</div>"
      ],
      "text/plain": [
       "      id  amount_tsh date_recorded                  funder  gps_height  \\\n",
       "0  50785         0.0    2013-02-04                    Dmdd        1996   \n",
       "1  51630         0.0    2013-02-04  Government Of Tanzania        1569   \n",
       "2  17168         0.0    2013-02-01                     NaN        1567   \n",
       "3  45559         0.0    2013-01-22              Finn Water         267   \n",
       "4  49871       500.0    2013-03-27                  Bruder        1260   \n",
       "\n",
       "    installer  longitude   latitude                 wpt_name  num_private  \\\n",
       "0        DMDD  35.290799  -4.059696  Dinamu Secondary School            0   \n",
       "1         DWE  36.656709  -3.309214                  Kimnyak            0   \n",
       "2         NaN  34.767863  -5.004344           Puma Secondary            0   \n",
       "3  FINN WATER  38.058046  -9.418672           Kwa Mzee Pange            0   \n",
       "4      BRUDER  35.006123 -10.950412          Kwa Mzee Turuka            0   \n",
       "\n",
       "                     basin  subvillage   region  region_code  district_code  \\\n",
       "0                 Internal      Magoma  Manyara           21              3   \n",
       "1                  Pangani     Kimnyak   Arusha            2              2   \n",
       "2                 Internal       Msatu  Singida           13              2   \n",
       "3  Ruvuma / Southern Coast  Kipindimbi    Lindi           80             43   \n",
       "4  Ruvuma / Southern Coast     Losonga   Ruvuma           10              3   \n",
       "\n",
       "             lga          ward  population public_meeting  \\\n",
       "0          Mbulu        Bashay         321           True   \n",
       "1   Arusha Rural      Kimnyaki         300           True   \n",
       "2  Singida Rural          Puma         500           True   \n",
       "3         Liwale       Mkutano         250            NaN   \n",
       "4         Mbinga  Mbinga Urban          60            NaN   \n",
       "\n",
       "               recorded_by scheme_management     scheme_name permit  \\\n",
       "0  GeoData Consultants Ltd        Parastatal             NaN   True   \n",
       "1  GeoData Consultants Ltd               VWC  TPRI pipe line   True   \n",
       "2  GeoData Consultants Ltd               VWC               P    NaN   \n",
       "3  GeoData Consultants Ltd               VWC             NaN   True   \n",
       "4  GeoData Consultants Ltd       Water Board          BRUDER   True   \n",
       "\n",
       "   construction_year extraction_type extraction_type_group  \\\n",
       "0               2012           other                 other   \n",
       "1               2000         gravity               gravity   \n",
       "2               2010           other                 other   \n",
       "3               1987           other                 other   \n",
       "4               2000         gravity               gravity   \n",
       "\n",
       "  extraction_type_class   management management_group      payment  \\\n",
       "0                 other   parastatal       parastatal    never pay   \n",
       "1               gravity          vwc       user-group    never pay   \n",
       "2                 other          vwc       user-group    never pay   \n",
       "3                 other          vwc       user-group      unknown   \n",
       "4               gravity  water board       user-group  pay monthly   \n",
       "\n",
       "  payment_type water_quality quality_group      quantity quantity_group  \\\n",
       "0    never pay          soft          good      seasonal       seasonal   \n",
       "1    never pay          soft          good  insufficient   insufficient   \n",
       "2    never pay          soft          good  insufficient   insufficient   \n",
       "3      unknown          soft          good           dry            dry   \n",
       "4      monthly          soft          good        enough         enough   \n",
       "\n",
       "                 source           source_type source_class  \\\n",
       "0  rainwater harvesting  rainwater harvesting      surface   \n",
       "1                spring                spring  groundwater   \n",
       "2  rainwater harvesting  rainwater harvesting      surface   \n",
       "3          shallow well          shallow well  groundwater   \n",
       "4                spring                spring  groundwater   \n",
       "\n",
       "      waterpoint_type waterpoint_type_group  \n",
       "0               other                 other  \n",
       "1  communal standpipe    communal standpipe  \n",
       "2               other                 other  \n",
       "3               other                 other  \n",
       "4  communal standpipe    communal standpipe  "
      ]
     },
     "execution_count": 140,
     "metadata": {},
     "output_type": "execute_result"
    }
   ],
   "source": [
    "df_test.head()"
   ]
  },
  {
   "cell_type": "code",
   "execution_count": 17,
   "metadata": {
    "collapsed": false
   },
   "outputs": [
    {
     "data": {
      "text/plain": [
       "Index(['id', 'amount_tsh', 'date_recorded', 'funder', 'gps_height',\n",
       "       'installer', 'longitude', 'latitude', 'wpt_name', 'num_private',\n",
       "       'basin', 'subvillage', 'region', 'region_code', 'district_code', 'lga',\n",
       "       'ward', 'population', 'public_meeting', 'recorded_by',\n",
       "       'scheme_management', 'scheme_name', 'permit', 'construction_year',\n",
       "       'extraction_type', 'extraction_type_group', 'extraction_type_class',\n",
       "       'management', 'management_group', 'payment', 'payment_type',\n",
       "       'water_quality', 'quality_group', 'quantity', 'quantity_group',\n",
       "       'source', 'source_type', 'source_class', 'waterpoint_type',\n",
       "       'waterpoint_type_group', 'status_group'],\n",
       "      dtype='object')"
      ]
     },
     "execution_count": 17,
     "metadata": {},
     "output_type": "execute_result"
    }
   ],
   "source": [
    "# feature names \n",
    "df_train.columns"
   ]
  },
  {
   "cell_type": "code",
   "execution_count": 18,
   "metadata": {
    "collapsed": false
   },
   "outputs": [
    {
     "data": {
      "text/plain": [
       "0"
      ]
     },
     "execution_count": 18,
     "metadata": {},
     "output_type": "execute_result"
    }
   ],
   "source": [
    "# there are no duplicates\n",
    "df_train.duplicated().sum()"
   ]
  },
  {
   "cell_type": "code",
   "execution_count": 19,
   "metadata": {
    "collapsed": false
   },
   "outputs": [
    {
     "data": {
      "text/plain": [
       "funder                3635\n",
       "installer             3655\n",
       "subvillage             371\n",
       "public_meeting        3334\n",
       "scheme_management     3877\n",
       "scheme_name          28166\n",
       "permit                3056\n",
       "dtype: int64"
      ]
     },
     "execution_count": 19,
     "metadata": {},
     "output_type": "execute_result"
    }
   ],
   "source": [
    "# number of records/observations and features\n",
    "df_train.shape # (59400, 41)\n",
    "\n",
    "# columns which have null values \n",
    "null_cols = df_train.columns[df_train.isnull().any(axis=0)]\n",
    "\n",
    "#null_cols\n",
    "\n",
    "#number of missing observations in each of the above column\n",
    "df_train[null_cols].isnull().sum()\n",
    "\n",
    "# Cross tabulating some variables -- status_group\n",
    "##pd.crosstab(df_train['status_group'],df_train['quality_group'])"
   ]
  },
  {
   "cell_type": "markdown",
   "metadata": {},
   "source": [
    "### Features to be used in the Logistic Regression\n",
    "\n",
    "id: pump id                                                            -- identifier\n",
    "\n",
    "amount_tsh : Total static head (amount water available to waterpoint)  -- integer\n",
    "\n",
    "gps_height : Altitude of the well                                      -- integer\n",
    "\n",
    "#longitude, latitude: GPS coordinates\n",
    "\n",
    "basin: Geographic water basin                                          -- 9 categories\n",
    "\n",
    "region: Geographic location                                            -- 21 categories\n",
    "\n",
    "#district_code: Geographic location (coded)\n",
    "\n",
    "#lga : Geographic location\n",
    "\n",
    "population: Population around the well                                   -- integer\n",
    "\n",
    "permit: If the waterpoint is permitted                                   -- 2 categories\n",
    "\n",
    "extraction_type_group: The kind of extraction the waterpoint uses        -- 13 categories\n",
    "\n",
    "management: How the waterpoint is managed                                -- 12 categories\n",
    "\n",
    "payment_type:  What the water costs                                      -- 7 categories\n",
    "\n",
    "quality_group: The quality of the water                                  -- 6 categories\n",
    "\n",
    "quantity: The quantity of water                                          -- 5 categories\n",
    "\n",
    "source: The source of the water                                          -- 10 categories\n",
    "\n",
    "status_group: target label "
   ]
  },
  {
   "cell_type": "markdown",
   "metadata": {},
   "source": [
    "### Discarded Features \n",
    "\n",
    "date_recorded: The date the row was entered -- there are essentially 2 main years 2011, 2013 when most of the records were made -- 5 years in total with 2012 having only 1 value \n",
    "\n",
    "wpt_name : Name of the waterpoint if there is one  -- not useful\n",
    " \n",
    "num_private: no description  \n",
    "\n",
    "region_code: Geographic location (coded) --  this doesn't mathc the region variable -- similar\n",
    "\n",
    "ward  -- there were 1978 items in this category \n",
    "\n",
    "recorded_by -- has the same value for all the rows \n",
    "\n",
    "public_meeting -- not sure what this variable is \n",
    "\n",
    "waterpoint_type --  has many 0s in crosstabulations\n"
   ]
  },
  {
   "cell_type": "markdown",
   "metadata": {},
   "source": [
    "### Features which may be useful but are problematic\n",
    "\n",
    "'funder' , 'installer'            -- too many sub categories (there are 1822 unique funders                                                out of which 1433 have funded 10 or less pumps)\n",
    "\n",
    "subvillage                        -- has 18148 unique categories \n",
    "\n",
    "construction_year                 -- has a category '0' with 18000 records (8978, 7569, 1453)"
   ]
  },
  {
   "cell_type": "code",
   "execution_count": 20,
   "metadata": {
    "collapsed": false
   },
   "outputs": [
    {
     "data": {
      "text/plain": [
       "<matplotlib.axes._subplots.AxesSubplot at 0x126674da0>"
      ]
     },
     "execution_count": 20,
     "metadata": {},
     "output_type": "execute_result"
    },
    {
     "data": {
      "image/png": "[encoded data removed]",
      "text/plain": [
       "<matplotlib.figure.Figure at 0x126674630>"
      ]
     },
     "metadata": {},
     "output_type": "display_data"
    }
   ],
   "source": [
    "# https://www.analyticsvidhya.com/blog/2015/11/easy-methods-deal-categorical-variables-predictive-modeling/\n",
    "series = pd.value_counts(df_train.funder)\n",
    "\n",
    "# % of each of the sub-category\n",
    "sub = (series/series.sum() * 100)\n",
    "# sub-categories which have instances greater than 1\n",
    "sub[0:20].plot(kind = 'bar')\n"
   ]
  },
  {
   "cell_type": "markdown",
   "metadata": {},
   "source": [
    "### Similar Variables -- should choose one from each of these \n",
    "\n",
    "extraction  = 'extraction_type','extraction_type_group','extraction_type_class'\n",
    "\n",
    "management =  'management', 'management_group'\n",
    "\n",
    "payment ='payment', 'payment_type'                                  # these look the same \n",
    "\n",
    "water quality = 'water_quality', 'quality_group'\n",
    "\n",
    "quantity = 'quantity', 'quantity_group'                      # these look exactly the same \n",
    "\n",
    "source = 'source', 'source_type', 'source_class'\n",
    "\n",
    "waterpoint_type = 'waterpoint_type', 'waterpoint_type_group'\n",
    "\n",
    "scheme = 'scheme_management', 'scheme_name'"
   ]
  },
  {
   "cell_type": "code",
   "execution_count": null,
   "metadata": {
    "collapsed": true
   },
   "outputs": [],
   "source": []
  },
  {
   "cell_type": "code",
   "execution_count": 21,
   "metadata": {
    "collapsed": false
   },
   "outputs": [
    {
     "data": {
      "text/html": [
       "<div>\n",
       "<table border=\"1\" class=\"dataframe\">\n",
       "  <thead>\n",
       "    <tr style=\"text-align: right;\">\n",
       "      <th></th>\n",
       "      <th>funder</th>\n",
       "      <th>installer</th>\n",
       "      <th>subvillage</th>\n",
       "      <th>public_meeting</th>\n",
       "      <th>scheme_management</th>\n",
       "      <th>scheme_name</th>\n",
       "      <th>permit</th>\n",
       "    </tr>\n",
       "    <tr>\n",
       "      <th>status_group</th>\n",
       "      <th></th>\n",
       "      <th></th>\n",
       "      <th></th>\n",
       "      <th></th>\n",
       "      <th></th>\n",
       "      <th></th>\n",
       "      <th></th>\n",
       "    </tr>\n",
       "  </thead>\n",
       "  <tbody>\n",
       "    <tr>\n",
       "      <th>functional</th>\n",
       "      <td>1981.0</td>\n",
       "      <td>2000.0</td>\n",
       "      <td>205.0</td>\n",
       "      <td>1678.0</td>\n",
       "      <td>1873.0</td>\n",
       "      <td>14488.0</td>\n",
       "      <td>1673.0</td>\n",
       "    </tr>\n",
       "    <tr>\n",
       "      <th>functional needs repair</th>\n",
       "      <td>437.0</td>\n",
       "      <td>440.0</td>\n",
       "      <td>1.0</td>\n",
       "      <td>156.0</td>\n",
       "      <td>223.0</td>\n",
       "      <td>2004.0</td>\n",
       "      <td>300.0</td>\n",
       "    </tr>\n",
       "    <tr>\n",
       "      <th>non functional</th>\n",
       "      <td>1217.0</td>\n",
       "      <td>1215.0</td>\n",
       "      <td>165.0</td>\n",
       "      <td>1500.0</td>\n",
       "      <td>1781.0</td>\n",
       "      <td>11674.0</td>\n",
       "      <td>1083.0</td>\n",
       "    </tr>\n",
       "  </tbody>\n",
       "</table>\n",
       "</div>"
      ],
      "text/plain": [
       "                         funder  installer  subvillage  public_meeting  \\\n",
       "status_group                                                             \n",
       "functional               1981.0     2000.0       205.0          1678.0   \n",
       "functional needs repair   437.0      440.0         1.0           156.0   \n",
       "non functional           1217.0     1215.0       165.0          1500.0   \n",
       "\n",
       "                         scheme_management  scheme_name  permit  \n",
       "status_group                                                     \n",
       "functional                          1873.0      14488.0  1673.0  \n",
       "functional needs repair              223.0       2004.0   300.0  \n",
       "non functional                      1781.0      11674.0  1083.0  "
      ]
     },
     "execution_count": 21,
     "metadata": {},
     "output_type": "execute_result"
    }
   ],
   "source": [
    "# Check the number of null values across the three main class labels \n",
    "\n",
    "# -- create df with true-false assignments for missing values\n",
    "# -- group the df by the three status labels \n",
    "# -- sum across the rows for each of those groups \n",
    "# -- display only columns which have null values \n",
    "\n",
    "cols = df_train.columns\n",
    "df_train.isnull().groupby(df_train['status_group']).sum()[null_cols]\n",
    "\n"
   ]
  },
  {
   "cell_type": "code",
   "execution_count": 22,
   "metadata": {
    "collapsed": false
   },
   "outputs": [
    {
     "data": {
      "text/plain": [
       "<matplotlib.axes._subplots.AxesSubplot at 0x11ba0c4a8>"
      ]
     },
     "execution_count": 22,
     "metadata": {},
     "output_type": "execute_result"
    },
    {
     "data": {
      "image/png": "[encoded data removed]",
      "text/plain": [
       "<matplotlib.figure.Figure at 0x11b0f4b00>"
      ]
     },
     "metadata": {},
     "output_type": "display_data"
    }
   ],
   "source": [
    "%matplotlib inline\n",
    "\n",
    "# Plotting missing values \n",
    "\n",
    "df_train.isnull().groupby(df_train['status_group']).sum()[null_cols].plot(kind='bar')\n",
    "\n",
    "##scheme name seems most problematic for all three categories "
   ]
  },
  {
   "cell_type": "code",
   "execution_count": 23,
   "metadata": {
    "collapsed": false,
    "scrolled": true
   },
   "outputs": [],
   "source": [
    "# The feature 'scheme_name' seems to have the maximum missing values in all 3 categoreies \n",
    "# -- we will drop this variable\n",
    "# -- we drop scheme_management   -- similar to management \n",
    "# -- we drop public_meeting\n",
    "\n",
    "df_train = df_train.drop(['scheme_name','scheme_management','public_meeting'], axis=1)\n"
   ]
  },
  {
   "cell_type": "code",
   "execution_count": null,
   "metadata": {
    "collapsed": false
   },
   "outputs": [],
   "source": []
  },
  {
   "cell_type": "code",
   "execution_count": 25,
   "metadata": {
    "collapsed": false
   },
   "outputs": [
    {
     "data": {
      "text/plain": [
       "<matplotlib.axes._subplots.AxesSubplot at 0x11d45a710>"
      ]
     },
     "execution_count": 25,
     "metadata": {},
     "output_type": "execute_result"
    },
    {
     "data": {
      "image/png": "[encoded data removed]",
      "text/plain": [
       "<matplotlib.figure.Figure at 0x11cba2748>"
      ]
     },
     "metadata": {},
     "output_type": "display_data"
    }
   ],
   "source": [
    "# Missing funder installer \n",
    "df_train.isnull().groupby(df_train['status_group']).sum()[['funder','installer','permit']].plot(kind='bar')\n"
   ]
  },
  {
   "cell_type": "code",
   "execution_count": 26,
   "metadata": {
    "collapsed": false
   },
   "outputs": [],
   "source": [
    "# For now dropping the funder, installer and subvillage columns -- would eventually like to use it \n",
    "df_train = df_train.drop(['funder','installer','subvillage'], axis=1)\n",
    "\n"
   ]
  },
  {
   "cell_type": "code",
   "execution_count": 27,
   "metadata": {
    "collapsed": false
   },
   "outputs": [
    {
     "data": {
      "text/plain": [
       "<matplotlib.axes._subplots.AxesSubplot at 0x11d43c668>"
      ]
     },
     "execution_count": 27,
     "metadata": {},
     "output_type": "execute_result"
    },
    {
     "data": {
      "image/png": "[encoded data removed]",
      "text/plain": [
       "<matplotlib.figure.Figure at 0x11a2de5f8>"
      ]
     },
     "metadata": {},
     "output_type": "display_data"
    }
   ],
   "source": [
    "# Missing permit \n",
    "df_train.isnull().groupby(df_train['status_group']).sum()[['permit']].plot(kind='bar')\n"
   ]
  },
  {
   "cell_type": "code",
   "execution_count": 28,
   "metadata": {
    "collapsed": false
   },
   "outputs": [],
   "source": [
    "# isnull() dataframe and a series method --- inverse method notnull() \n",
    "# --- axis = 0 = do sum in the direction of the 0 axis/ across the rows/ down the columns\n",
    "df_train.isnull().sum(axis=0)\n",
    "\n",
    "# -- checking how many of these null valuses are in each of the subgroup labels\n",
    "df_train.isnull().groupby(df_train['status_group']).sum()\n",
    "\n",
    "# Dropping all the rows which has a missing value\n",
    "df_train.dropna(how='any', inplace = True)"
   ]
  },
  {
   "cell_type": "code",
   "execution_count": 29,
   "metadata": {
    "collapsed": false
   },
   "outputs": [
    {
     "name": "stdout",
     "output_type": "stream",
     "text": [
      "functional                 30586\n",
      "non functional             21741\n",
      "functional needs repair     4017\n",
      "Name: status_group, dtype: int64\n"
     ]
    },
    {
     "data": {
      "text/plain": [
       "<matplotlib.axes._subplots.AxesSubplot at 0x11d12c9b0>"
      ]
     },
     "execution_count": 29,
     "metadata": {},
     "output_type": "execute_result"
    },
    {
     "data": {
      "image/png": "[encoded data removed]",
      "text/plain": [
       "<matplotlib.figure.Figure at 0x11d13abe0>"
      ]
     },
     "metadata": {},
     "output_type": "display_data"
    }
   ],
   "source": [
    "# observations under each category \n",
    "\n",
    "print(df_train['status_group'].value_counts())\n",
    "\n",
    "df_train['status_group'].value_counts().plot(kind='pie')\n",
    "\n",
    "# -- functional but needs repair has the least number of observations "
   ]
  },
  {
   "cell_type": "code",
   "execution_count": 82,
   "metadata": {
    "collapsed": false
   },
   "outputs": [],
   "source": [
    "# creat a copy df for analysis\n",
    "\n",
    "X2_names = ['id', 'amount_tsh','gps_height','basin', 'region', \n",
    "             'population', 'permit', 'extraction_type_group', \n",
    "            'management', 'payment_type', 'quality_group', \n",
    "             'quantity', 'source']\n",
    "\n",
    "train2 = df_train.loc[:, X2_names]\n"
   ]
  },
  {
   "cell_type": "code",
   "execution_count": 83,
   "metadata": {
    "collapsed": true
   },
   "outputs": [],
   "source": [
    "# Rename long column names \n",
    "\n",
    "train2.rename(columns={'extraction_type_group':'extraction',\n",
    "                       'payment_type':'payment',\n",
    "                       'quality_group': 'quality'}, inplace=True)\n"
   ]
  },
  {
   "cell_type": "code",
   "execution_count": 84,
   "metadata": {
    "collapsed": false
   },
   "outputs": [
    {
     "data": {
      "text/html": [
       "<div>\n",
       "<table border=\"1\" class=\"dataframe\">\n",
       "  <thead>\n",
       "    <tr style=\"text-align: right;\">\n",
       "      <th></th>\n",
       "      <th>id</th>\n",
       "      <th>amount_tsh</th>\n",
       "      <th>gps_height</th>\n",
       "      <th>basin</th>\n",
       "      <th>region</th>\n",
       "      <th>population</th>\n",
       "      <th>permit</th>\n",
       "      <th>extraction</th>\n",
       "      <th>management</th>\n",
       "      <th>payment</th>\n",
       "      <th>quality</th>\n",
       "      <th>quantity</th>\n",
       "      <th>source</th>\n",
       "    </tr>\n",
       "  </thead>\n",
       "  <tbody>\n",
       "    <tr>\n",
       "      <th>0</th>\n",
       "      <td>69572</td>\n",
       "      <td>6000.0</td>\n",
       "      <td>1390</td>\n",
       "      <td>Lake Nyasa</td>\n",
       "      <td>Iringa</td>\n",
       "      <td>109</td>\n",
       "      <td>False</td>\n",
       "      <td>gravity</td>\n",
       "      <td>vwc</td>\n",
       "      <td>annually</td>\n",
       "      <td>good</td>\n",
       "      <td>enough</td>\n",
       "      <td>spring</td>\n",
       "    </tr>\n",
       "    <tr>\n",
       "      <th>1</th>\n",
       "      <td>8776</td>\n",
       "      <td>0.0</td>\n",
       "      <td>1399</td>\n",
       "      <td>Lake Victoria</td>\n",
       "      <td>Mara</td>\n",
       "      <td>280</td>\n",
       "      <td>True</td>\n",
       "      <td>gravity</td>\n",
       "      <td>wug</td>\n",
       "      <td>never pay</td>\n",
       "      <td>good</td>\n",
       "      <td>insufficient</td>\n",
       "      <td>rainwater harvesting</td>\n",
       "    </tr>\n",
       "    <tr>\n",
       "      <th>2</th>\n",
       "      <td>34310</td>\n",
       "      <td>25.0</td>\n",
       "      <td>686</td>\n",
       "      <td>Pangani</td>\n",
       "      <td>Manyara</td>\n",
       "      <td>250</td>\n",
       "      <td>True</td>\n",
       "      <td>gravity</td>\n",
       "      <td>vwc</td>\n",
       "      <td>per bucket</td>\n",
       "      <td>good</td>\n",
       "      <td>enough</td>\n",
       "      <td>dam</td>\n",
       "    </tr>\n",
       "    <tr>\n",
       "      <th>3</th>\n",
       "      <td>67743</td>\n",
       "      <td>0.0</td>\n",
       "      <td>263</td>\n",
       "      <td>Ruvuma / Southern Coast</td>\n",
       "      <td>Mtwara</td>\n",
       "      <td>58</td>\n",
       "      <td>True</td>\n",
       "      <td>submersible</td>\n",
       "      <td>vwc</td>\n",
       "      <td>never pay</td>\n",
       "      <td>good</td>\n",
       "      <td>dry</td>\n",
       "      <td>machine dbh</td>\n",
       "    </tr>\n",
       "    <tr>\n",
       "      <th>4</th>\n",
       "      <td>19728</td>\n",
       "      <td>0.0</td>\n",
       "      <td>0</td>\n",
       "      <td>Lake Victoria</td>\n",
       "      <td>Kagera</td>\n",
       "      <td>0</td>\n",
       "      <td>True</td>\n",
       "      <td>gravity</td>\n",
       "      <td>other</td>\n",
       "      <td>never pay</td>\n",
       "      <td>good</td>\n",
       "      <td>seasonal</td>\n",
       "      <td>rainwater harvesting</td>\n",
       "    </tr>\n",
       "  </tbody>\n",
       "</table>\n",
       "</div>"
      ],
      "text/plain": [
       "      id  amount_tsh  gps_height                    basin   region  \\\n",
       "0  69572      6000.0        1390               Lake Nyasa   Iringa   \n",
       "1   8776         0.0        1399            Lake Victoria     Mara   \n",
       "2  34310        25.0         686                  Pangani  Manyara   \n",
       "3  67743         0.0         263  Ruvuma / Southern Coast   Mtwara   \n",
       "4  19728         0.0           0            Lake Victoria   Kagera   \n",
       "\n",
       "   population permit   extraction management     payment quality  \\\n",
       "0         109  False      gravity        vwc    annually    good   \n",
       "1         280   True      gravity        wug   never pay    good   \n",
       "2         250   True      gravity        vwc  per bucket    good   \n",
       "3          58   True  submersible        vwc   never pay    good   \n",
       "4           0   True      gravity      other   never pay    good   \n",
       "\n",
       "       quantity                source  \n",
       "0        enough                spring  \n",
       "1  insufficient  rainwater harvesting  \n",
       "2        enough                   dam  \n",
       "3           dry           machine dbh  \n",
       "4      seasonal  rainwater harvesting  "
      ]
     },
     "execution_count": 84,
     "metadata": {},
     "output_type": "execute_result"
    }
   ],
   "source": [
    "train2.head()"
   ]
  },
  {
   "cell_type": "code",
   "execution_count": 85,
   "metadata": {
    "collapsed": false
   },
   "outputs": [],
   "source": [
    "X2 = pd.get_dummies(train2, drop_first=True)"
   ]
  },
  {
   "cell_type": "code",
   "execution_count": 86,
   "metadata": {
    "collapsed": false,
    "scrolled": true
   },
   "outputs": [
    {
     "data": {
      "text/plain": [
       "Index(['id', 'amount_tsh', 'gps_height', 'population', 'basin_Lake Nyasa',\n",
       "       'basin_Lake Rukwa', 'basin_Lake Tanganyika', 'basin_Lake Victoria',\n",
       "       'basin_Pangani', 'basin_Rufiji', 'basin_Ruvuma / Southern Coast',\n",
       "       'basin_Wami / Ruvu', 'region_Dar es Salaam', 'region_Dodoma',\n",
       "       'region_Iringa', 'region_Kagera', 'region_Kigoma', 'region_Kilimanjaro',\n",
       "       'region_Lindi', 'region_Manyara', 'region_Mara', 'region_Mbeya',\n",
       "       'region_Morogoro', 'region_Mtwara', 'region_Mwanza', 'region_Pwani',\n",
       "       'region_Rukwa', 'region_Ruvuma', 'region_Shinyanga', 'region_Singida',\n",
       "       'region_Tabora', 'region_Tanga', 'permit_True', 'extraction_gravity',\n",
       "       'extraction_india mark ii', 'extraction_india mark iii',\n",
       "       'extraction_mono', 'extraction_nira/tanira', 'extraction_other',\n",
       "       'extraction_other handpump', 'extraction_other motorpump',\n",
       "       'extraction_rope pump', 'extraction_submersible', 'extraction_swn 80',\n",
       "       'extraction_wind-powered', 'management_other',\n",
       "       'management_other - school', 'management_parastatal',\n",
       "       'management_private operator', 'management_trust', 'management_unknown',\n",
       "       'management_vwc', 'management_water authority',\n",
       "       'management_water board', 'management_wua', 'management_wug',\n",
       "       'payment_monthly', 'payment_never pay', 'payment_on failure',\n",
       "       'payment_other', 'payment_per bucket', 'payment_unknown',\n",
       "       'quality_fluoride', 'quality_good', 'quality_milky', 'quality_salty',\n",
       "       'quality_unknown', 'quantity_enough', 'quantity_insufficient',\n",
       "       'quantity_seasonal', 'quantity_unknown', 'source_hand dtw',\n",
       "       'source_lake', 'source_machine dbh', 'source_other',\n",
       "       'source_rainwater harvesting', 'source_river', 'source_shallow well',\n",
       "       'source_spring', 'source_unknown'],\n",
       "      dtype='object')"
      ]
     },
     "execution_count": 86,
     "metadata": {},
     "output_type": "execute_result"
    }
   ],
   "source": [
    "X2.columns"
   ]
  },
  {
   "cell_type": "code",
   "execution_count": 107,
   "metadata": {
    "collapsed": false
   },
   "outputs": [],
   "source": [
    "# target \n",
    "y2 = df_train.loc[:,['status_group']]"
   ]
  },
  {
   "cell_type": "code",
   "execution_count": 123,
   "metadata": {
    "collapsed": false
   },
   "outputs": [],
   "source": [
    "# functional -- 0; functional needs repair -- 1; non functional -- 2\n",
    "\n",
    "y2 = y2['status_group'].astype('category').cat.codes\n"
   ]
  },
  {
   "cell_type": "code",
   "execution_count": 125,
   "metadata": {
    "collapsed": false
   },
   "outputs": [],
   "source": [
    "# Multinomial\n",
    "logreg = LogisticRegression(C=1e5, solver='lbfgs', multi_class='multinomial')\n",
    "\n",
    "# Create an instance of Logistic Regression Classifier and fit the data.\n",
    "result = logreg.fit(X2, y2)\n"
   ]
  },
  {
   "cell_type": "code",
   "execution_count": null,
   "metadata": {
    "collapsed": false
   },
   "outputs": [],
   "source": []
  },
  {
   "cell_type": "code",
   "execution_count": 115,
   "metadata": {
    "collapsed": false
   },
   "outputs": [
    {
     "data": {
      "text/plain": [
       "Index(['amount_tsh', 'gps_height', 'population', 'basin_Lake Nyasa',\n",
       "       'basin_Lake Rukwa', 'basin_Lake Tanganyika', 'basin_Lake Victoria',\n",
       "       'basin_Pangani', 'basin_Rufiji', 'basin_Ruvuma / Southern Coast',\n",
       "       'basin_Wami / Ruvu', 'region_Dar es Salaam', 'region_Dodoma',\n",
       "       'region_Iringa', 'region_Kagera', 'region_Kigoma', 'region_Kilimanjaro',\n",
       "       'region_Lindi', 'region_Manyara', 'region_Mara', 'region_Mbeya',\n",
       "       'region_Morogoro', 'region_Mtwara', 'region_Mwanza', 'region_Pwani',\n",
       "       'region_Rukwa', 'region_Ruvuma', 'region_Shinyanga', 'region_Singida',\n",
       "       'region_Tabora', 'region_Tanga', 'permit_True', 'extraction_gravity',\n",
       "       'extraction_india mark ii', 'extraction_india mark iii',\n",
       "       'extraction_mono', 'extraction_nira/tanira', 'extraction_other',\n",
       "       'extraction_other handpump', 'extraction_other motorpump',\n",
       "       'extraction_rope pump', 'extraction_submersible', 'extraction_swn 80',\n",
       "       'extraction_wind-powered', 'management_other',\n",
       "       'management_other - school', 'management_parastatal',\n",
       "       'management_private operator', 'management_trust', 'management_unknown',\n",
       "       'management_vwc', 'management_water authority',\n",
       "       'management_water board', 'management_wua', 'management_wug',\n",
       "       'payment_monthly', 'payment_never pay', 'payment_on failure',\n",
       "       'payment_other', 'payment_per bucket', 'payment_unknown',\n",
       "       'quality_fluoride', 'quality_good', 'quality_milky', 'quality_salty',\n",
       "       'quality_unknown', 'quantity_enough', 'quantity_insufficient',\n",
       "       'quantity_seasonal', 'quantity_unknown', 'source_hand dtw',\n",
       "       'source_lake', 'source_machine dbh', 'source_other',\n",
       "       'source_rainwater harvesting', 'source_river', 'source_shallow well',\n",
       "       'source_spring', 'source_unknown'],\n",
       "      dtype='object')"
      ]
     },
     "execution_count": 115,
     "metadata": {},
     "output_type": "execute_result"
    }
   ],
   "source": [
    "X2.columns[1:]"
   ]
  },
  {
   "cell_type": "code",
   "execution_count": 141,
   "metadata": {
    "collapsed": false
   },
   "outputs": [],
   "source": [
    "# # create categorical variables \n",
    "\n",
    "# # For basin \n",
    "\n",
    "#train2[\"status_group\"] = train2[\"status_group\"].astype('category')\n",
    "\n",
    "# train2[\"basin_cat\"] = train2[\"basin\"].cat.codes\n",
    "\n",
    "# # For region \n",
    "# train2[\"region\"] = train2[\"region\"].astype('category')\n",
    "# train2[\"region_cat\"] = train2[\"region\"].cat.codes\n",
    "\n",
    "# # For region \n",
    "# train2[\"permit\"] = train2[\"permit\"].astype('category')\n",
    "# train2[\"permit_cat\"] = train2[\"permit\"].cat.codes\n"
   ]
  },
  {
   "cell_type": "code",
   "execution_count": null,
   "metadata": {
    "collapsed": true
   },
   "outputs": [],
   "source": [
    "# dropna - dataframe method , .dropna(how='any', inplace = FALSE) - drop a rown if any of its values are missing \n",
    "#df_train.describe()\n",
    "#df_train['status_group'].value_counts()\n",
    "#df_train.select_dtypes(include=['object'])\n",
    "#df_train[df_train.isnull().any(axis=1)]"
   ]
  },
  {
   "cell_type": "code",
   "execution_count": null,
   "metadata": {
    "collapsed": true
   },
   "outputs": [],
   "source": [
    "# convert 'date_recorded' to datetime \n",
    "#df_train['date_recorded'] = pd.to_datetime(df_train['date_recorded'])\n",
    "\n",
    "#df_train.groupby(['status_group','funder']).size().nlargest(20)\n",
    "\n",
    "#funder_name = df_train['funder'].value_counts().index.tolist()\n",
    "# df_train.corr(method ='pearson')"
   ]
  },
  {
   "cell_type": "code",
   "execution_count": null,
   "metadata": {
    "collapsed": true
   },
   "outputs": [],
   "source": [
    "#df_train.dtypes\n"
   ]
  }
 ],
 "metadata": {
  "kernelspec": {
   "display_name": "Python 3",
   "language": "python",
   "name": "python3"
  },
  "language_info": {
   "codemirror_mode": {
    "name": "ipython",
    "version": 3
   },
   "file_extension": ".py",
   "mimetype": "text/x-python",
   "name": "python",
   "nbconvert_exporter": "python",
   "pygments_lexer": "ipython3",
   "version": "3.5.5"
  }
 },
 "nbformat": 4,
 "nbformat_minor": 0
}
